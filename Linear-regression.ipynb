{
 "cells": [
  {
   "cell_type": "markdown",
   "id": "f3fe14be-bd82-4f46-a8b7-7e90cc6782c7",
   "metadata": {},
   "source": [
    "## Nguyễn Hiển Đạt\n",
    "## MSSV:21127591"
   ]
  },
  {
   "cell_type": "code",
   "execution_count": 1,
   "id": "c791e3fa-c5c0-4fd7-ae1d-5a1847637ab3",
   "metadata": {},
   "outputs": [],
   "source": [
    "import pandas as pd\n",
    "import numpy as np\n",
    "df=pd.read_csv('wine.csv')\n",
    "A=df.values.tolist()\n",
    "A=np.array(A)"
   ]
  },
  {
   "cell_type": "code",
   "execution_count": 2,
   "id": "bf5ad83e-13f9-4460-83c8-7723c470ec03",
   "metadata": {},
   "outputs": [],
   "source": [
    "def getAb(xs, ys):\n",
    "    col1 = np.ones(len(xs))\n",
    "    colx = np.array(xs)\n",
    "    A = np.array([col1, colx]).T\n",
    "    b = np.array(ys).reshape(len(ys), 1)\n",
    "    return A, b"
   ]
  },
  {
   "cell_type": "markdown",
   "id": "08358626-81ae-4dfd-8119-e54da2a1ac1f",
   "metadata": {},
   "source": [
    "## Câu a"
   ]
  },
  {
   "cell_type": "code",
   "execution_count": 3,
   "id": "7cc3b10b-c1d9-44ab-a3d9-7a7f35c34798",
   "metadata": {},
   "outputs": [
    {
     "name": "stdout",
     "output_type": "stream",
     "text": [
      "[[ 1.    7.4   0.7  ...  3.51  0.56  9.4 ]\n",
      " [ 1.    7.8   0.88 ...  3.2   0.68  9.8 ]\n",
      " [ 1.    7.8   0.76 ...  3.26  0.65  9.8 ]\n",
      " ...\n",
      " [ 1.    7.9   0.58 ...  3.21  0.58  9.5 ]\n",
      " [ 1.    7.7   0.57 ...  3.16  0.54  9.8 ]\n",
      " [ 1.    7.7   0.26 ...  3.15  0.79 10.9 ]]\n",
      "[[5.]\n",
      " [5.]\n",
      " [5.]\n",
      " ...\n",
      " [6.]\n",
      " [6.]\n",
      " [6.]]\n"
     ]
    }
   ],
   "source": [
    "col1=np.ones(len(A[:,1]))\n",
    "colx1=np.array(A[:,1])\n",
    "colx2=np.array(A[:,2])\n",
    "colx3=np.array(A[:,3])\n",
    "colx4=np.array(A[:,4])\n",
    "colx5=np.array(A[:,5])\n",
    "colx6=np.array(A[:,6])\n",
    "colx7=np.array(A[:,7])\n",
    "colx8=np.array(A[:,8])\n",
    "colx9=np.array(A[:,9])\n",
    "colx10=np.array(A[:,10])\n",
    "colx11=np.array(A[:,11])\n",
    "x=np.array([col1,colx1,colx2,colx3,colx4,colx5,colx6,colx7,colx8,colx9,colx10,colx11]).T\n",
    "y=np.array(A[:,0]).reshape(len(A[:,0]),1)\n",
    "print(x)\n",
    "print(y)"
   ]
  },
  {
   "cell_type": "code",
   "execution_count": 4,
   "id": "b63a8ddc-10c3-4f50-9245-cd31cf7d3a57",
   "metadata": {},
   "outputs": [
    {
     "name": "stdout",
     "output_type": "stream",
     "text": [
      "[[ 4.29171624e+01]\n",
      " [ 4.75247530e-02]\n",
      " [-1.06874258e+00]\n",
      " [-2.68710829e-01]\n",
      " [ 3.49742662e-02]\n",
      " [-1.59729560e+00]\n",
      " [ 3.48788138e-03]\n",
      " [-3.79835506e-03]\n",
      " [-3.94690810e+01]\n",
      " [-2.45575908e-01]\n",
      " [ 7.73840794e-01]\n",
      " [ 2.69377496e-01]]\n",
      "22.094716807791663\n"
     ]
    }
   ],
   "source": [
    "x_hat = np.linalg.inv(np.matmul(np.transpose(x),x)) @ np.matmul(np.transpose(x),y)\n",
    "print(x_hat)\n",
    "print(np.linalg.norm(x@x_hat - y))"
   ]
  },
  {
   "cell_type": "markdown",
   "id": "6dbf7029-d1fc-4521-a26d-a3f983132300",
   "metadata": {},
   "source": [
    "## Câu b"
   ]
  },
  {
   "cell_type": "markdown",
   "id": "3b6aa5d5-cc2c-4fbe-b766-47a2aa88289f",
   "metadata": {},
   "source": [
    "## Fixed acidity"
   ]
  },
  {
   "cell_type": "code",
   "execution_count": 5,
   "id": "a619fd05-6a44-4b58-b090-d85c4e08f4c9",
   "metadata": {},
   "outputs": [
    {
     "name": "stdout",
     "output_type": "stream",
     "text": [
      "[[1.  7.4]\n",
      " [1.  7.8]\n",
      " [1.  7.8]\n",
      " ...\n",
      " [1.  7.9]\n",
      " [1.  7.7]\n",
      " [1.  7.7]]\n",
      "[[5.]\n",
      " [5.]\n",
      " [5.]\n",
      " ...\n",
      " [6.]\n",
      " [6.]\n",
      " [6.]]\n"
     ]
    }
   ],
   "source": [
    "quality=A[:,0]\n",
    "fixed_acidity=A[:,1]\n",
    "x,y=getAb(fixed_acidity,quality)\n",
    "print(x)\n",
    "print(y)"
   ]
  },
  {
   "cell_type": "code",
   "execution_count": 6,
   "id": "0c09a134-8a14-4b27-8fb8-b6a4a0fb3127",
   "metadata": {},
   "outputs": [
    {
     "name": "stdout",
     "output_type": "stream",
     "text": [
      "[[5.08063442]\n",
      " [0.06771801]]\n",
      "27.708776606551698\n"
     ]
    }
   ],
   "source": [
    "x_hat_fixedAcidity = np.linalg.inv(np.matmul(np.transpose(x),x)) @ np.matmul(np.transpose(x),y)\n",
    "print(x_hat_fixedAcidity)\n",
    "print(np.linalg.norm(x@x_hat_fixedAcidity - y))"
   ]
  },
  {
   "cell_type": "code",
   "execution_count": 7,
   "id": "9b6a6f1f-3e8a-4219-ac18-23ff7da73a72",
   "metadata": {},
   "outputs": [
    {
     "data": {
      "image/png": "[encoded data removed]",
      "text/plain": [
       "<Figure size 640x480 with 1 Axes>"
      ]
     },
     "metadata": {},
     "output_type": "display_data"
    }
   ],
   "source": [
    "import matplotlib.pyplot as plt\n",
    "import numpy as np\n",
    "plt.plot(fixed_acidity, quality, \"o\")\n",
    "ts = np.linspace(min(fixed_acidity), max(fixed_acidity), 50)\n",
    "yts = [x_hat_fixedAcidity[0] + x_hat_fixedAcidity[1]*t for t in ts]\n",
    "plt.plot(ts, yts, color=\"red\")\n",
    "plt.show()\n"
   ]
  },
  {
   "cell_type": "markdown",
   "id": "ef0183e7-5ced-4cd7-b7d4-d69eabbe36a9",
   "metadata": {},
   "source": [
    "## Volatile acidity"
   ]
  },
  {
   "cell_type": "code",
   "execution_count": 8,
   "id": "7c815566-694a-4391-9660-66c3578a81aa",
   "metadata": {},
   "outputs": [
    {
     "name": "stdout",
     "output_type": "stream",
     "text": [
      "[[1.   0.7 ]\n",
      " [1.   0.88]\n",
      " [1.   0.76]\n",
      " ...\n",
      " [1.   0.58]\n",
      " [1.   0.57]\n",
      " [1.   0.26]]\n",
      "[[5.]\n",
      " [5.]\n",
      " [5.]\n",
      " ...\n",
      " [6.]\n",
      " [6.]\n",
      " [6.]]\n"
     ]
    }
   ],
   "source": [
    "volatile_acidity=A[:,2]\n",
    "x,y=getAb(volatile_acidity,quality)\n",
    "print(x)\n",
    "print(y)"
   ]
  },
  {
   "cell_type": "code",
   "execution_count": 9,
   "id": "b7a38ef0-57e4-48be-a545-e7c013a6c770",
   "metadata": {},
   "outputs": [
    {
     "name": "stdout",
     "output_type": "stream",
     "text": [
      "[[ 6.55564501]\n",
      " [-1.71617885]]\n",
      "25.921046257502894\n"
     ]
    }
   ],
   "source": [
    "x_hat_volatileAcidity = np.linalg.inv(np.matmul(np.transpose(x),x)) @ np.matmul(np.transpose(x),y)\n",
    "print(x_hat_volatileAcidity)\n",
    "print(np.linalg.norm(x@x_hat_volatileAcidity - y))"
   ]
  },
  {
   "cell_type": "code",
   "execution_count": 10,
   "id": "4bf188bd-d334-46db-bf92-63c91e782587",
   "metadata": {},
   "outputs": [
    {
     "data": {
      "image/png": "[encoded data removed]",
      "text/plain": [
       "<Figure size 640x480 with 1 Axes>"
      ]
     },
     "metadata": {},
     "output_type": "display_data"
    }
   ],
   "source": [
    "import matplotlib.pyplot as plt\n",
    "import numpy as np\n",
    "plt.plot(volatile_acidity, quality, \"o\")\n",
    "ts = np.linspace(min(volatile_acidity), max(volatile_acidity), 50)\n",
    "yts = [x_hat_volatileAcidity[0] + x_hat_volatileAcidity[1]*t for t in ts]\n",
    "plt.plot(ts, yts, color=\"red\")\n",
    "plt.show()"
   ]
  },
  {
   "cell_type": "markdown",
   "id": "665376bd-43e9-4442-9a9f-25d205d82171",
   "metadata": {},
   "source": [
    "## Citrid acid"
   ]
  },
  {
   "cell_type": "code",
   "execution_count": 11,
   "id": "99f6229e-4044-4923-80e4-3db77f84e1fe",
   "metadata": {},
   "outputs": [
    {
     "name": "stdout",
     "output_type": "stream",
     "text": [
      "[[1.   0.  ]\n",
      " [1.   0.  ]\n",
      " [1.   0.04]\n",
      " ...\n",
      " [1.   0.23]\n",
      " [1.   0.21]\n",
      " [1.   0.26]]\n",
      "[[5.]\n",
      " [5.]\n",
      " [5.]\n",
      " ...\n",
      " [6.]\n",
      " [6.]\n",
      " [6.]]\n"
     ]
    }
   ],
   "source": [
    "citrid_acidity=A[:,3]\n",
    "x,y=getAb(citrid_acidity,quality)\n",
    "print(x)\n",
    "print(y)"
   ]
  },
  {
   "cell_type": "code",
   "execution_count": 12,
   "id": "a7f6fb26-da79-47c3-8c45-3fa66cade65b",
   "metadata": {},
   "outputs": [
    {
     "name": "stdout",
     "output_type": "stream",
     "text": [
      "[[5.38925587]\n",
      " [0.939022  ]]\n",
      "27.28232609600131\n"
     ]
    }
   ],
   "source": [
    "x_hat_citridAcidity = np.linalg.inv(np.matmul(np.transpose(x),x)) @ np.matmul(np.transpose(x),y)\n",
    "print(x_hat_citridAcidity)\n",
    "print(np.linalg.norm(x@x_hat_citridAcidity - y))"
   ]
  },
  {
   "cell_type": "code",
   "execution_count": 13,
   "id": "18b1b5bd-eb97-4434-acc1-af8a7c71de58",
   "metadata": {},
   "outputs": [
    {
     "data": {
      "image/png": "[encoded data removed]",
      "text/plain": [
       "<Figure size 640x480 with 1 Axes>"
      ]
     },
     "metadata": {},
     "output_type": "display_data"
    }
   ],
   "source": [
    "import matplotlib.pyplot as plt\n",
    "import numpy as np\n",
    "plt.plot(citrid_acidity, quality, \"o\")\n",
    "ts = np.linspace(min(citrid_acidity), max(citrid_acidity), 50)\n",
    "yts = [x_hat_citridAcidity[0] + x_hat_citridAcidity[1]*t for t in ts]\n",
    "plt.plot(ts, yts, color=\"red\")\n",
    "plt.show()"
   ]
  },
  {
   "cell_type": "markdown",
   "id": "86ad2492-594f-4c28-acea-38c49382f7b2",
   "metadata": {},
   "source": [
    "## Residual sugar"
   ]
  },
  {
   "cell_type": "code",
   "execution_count": 14,
   "id": "61cd77f4-ea3d-48df-8573-09b6652db502",
   "metadata": {},
   "outputs": [
    {
     "name": "stdout",
     "output_type": "stream",
     "text": [
      "[[1.  1.9]\n",
      " [1.  2.6]\n",
      " [1.  2.3]\n",
      " ...\n",
      " [1.  2.3]\n",
      " [1.  1.5]\n",
      " [1.  2. ]]\n",
      "[[5.]\n",
      " [5.]\n",
      " [5.]\n",
      " ...\n",
      " [6.]\n",
      " [6.]\n",
      " [6.]]\n"
     ]
    }
   ],
   "source": [
    "residual_sugar=A[:,4]\n",
    "x,y=getAb(residual_sugar,quality)\n",
    "print(x)\n",
    "print(y)"
   ]
  },
  {
   "cell_type": "code",
   "execution_count": 15,
   "id": "7fb5a342-d4a3-43e6-8007-a025bc5b0070",
   "metadata": {},
   "outputs": [
    {
     "name": "stdout",
     "output_type": "stream",
     "text": [
      "[[5.58423067]\n",
      " [0.03138657]]\n",
      "27.988047661119886\n"
     ]
    }
   ],
   "source": [
    "x_hat_residualSugar = np.linalg.inv(np.matmul(np.transpose(x),x)) @ np.matmul(np.transpose(x),y)\n",
    "print(x_hat_residualSugar)\n",
    "print(np.linalg.norm(x@x_hat_residualSugar - y))"
   ]
  },
  {
   "cell_type": "code",
   "execution_count": 16,
   "id": "41d6471c-23a5-467b-92d4-bfbc9585c0af",
   "metadata": {},
   "outputs": [
    {
     "data": {
      "image/png": "[encoded data removed]",
      "text/plain": [
       "<Figure size 640x480 with 1 Axes>"
      ]
     },
     "metadata": {},
     "output_type": "display_data"
    }
   ],
   "source": [
    "import matplotlib.pyplot as plt\n",
    "import numpy as np\n",
    "plt.plot(residual_sugar, quality, \"o\")\n",
    "ts = np.linspace(min(residual_sugar), max(residual_sugar), 50)\n",
    "yts = [x_hat_residualSugar[0] + x_hat_residualSugar[1]*t for t in ts]\n",
    "plt.plot(ts, yts, color=\"red\")\n",
    "plt.show()"
   ]
  },
  {
   "cell_type": "markdown",
   "id": "159e31ee-a0d0-4834-9b1a-2e4a97dd69d5",
   "metadata": {},
   "source": [
    "## Chlorides"
   ]
  },
  {
   "cell_type": "code",
   "execution_count": 17,
   "id": "bafdde0b-987d-44bc-b2fc-3cb47cd8bf92",
   "metadata": {},
   "outputs": [
    {
     "name": "stdout",
     "output_type": "stream",
     "text": [
      "[[1.    0.076]\n",
      " [1.    0.098]\n",
      " [1.    0.092]\n",
      " ...\n",
      " [1.    0.076]\n",
      " [1.    0.069]\n",
      " [1.    0.052]]\n",
      "[[5.]\n",
      " [5.]\n",
      " [5.]\n",
      " ...\n",
      " [6.]\n",
      " [6.]\n",
      " [6.]]\n"
     ]
    }
   ],
   "source": [
    "chlorides=A[:,5]\n",
    "x,y=getAb(chlorides,quality)\n",
    "print(x)\n",
    "print(y)"
   ]
  },
  {
   "cell_type": "code",
   "execution_count": 18,
   "id": "c41be216-15d1-4a0f-8e25-48da782807af",
   "metadata": {},
   "outputs": [
    {
     "name": "stdout",
     "output_type": "stream",
     "text": [
      "[[ 5.85091609]\n",
      " [-2.08584874]]\n",
      "27.80382915794736\n"
     ]
    }
   ],
   "source": [
    "x_hat_chlorides = np.linalg.inv(np.matmul(np.transpose(x),x)) @ np.matmul(np.transpose(x),y)\n",
    "print(x_hat_chlorides)\n",
    "print(np.linalg.norm(x@x_hat_chlorides - y))"
   ]
  },
  {
   "cell_type": "code",
   "execution_count": 19,
   "id": "104aa87d-a1fe-4eb2-a1e8-113cc96184af",
   "metadata": {},
   "outputs": [
    {
     "data": {
      "image/png": "[encoded data removed]",
      "text/plain": [
       "<Figure size 640x480 with 1 Axes>"
      ]
     },
     "metadata": {},
     "output_type": "display_data"
    }
   ],
   "source": [
    "import matplotlib.pyplot as plt\n",
    "import numpy as np\n",
    "plt.plot(chlorides, quality, \"o\")\n",
    "ts = np.linspace(min(chlorides), max(chlorides), 50)\n",
    "yts = [x_hat_chlorides[0] + x_hat_chlorides[1]*t for t in ts]\n",
    "plt.plot(ts, yts, color=\"red\")\n",
    "plt.show()"
   ]
  },
  {
   "cell_type": "markdown",
   "id": "105b1741-30a3-46a1-b0c9-96f0ab531b72",
   "metadata": {},
   "source": [
    "## Free sulfur dioxide"
   ]
  },
  {
   "cell_type": "code",
   "execution_count": 20,
   "id": "66794152-4942-462d-a11f-913698f129e7",
   "metadata": {},
   "outputs": [
    {
     "name": "stdout",
     "output_type": "stream",
     "text": [
      "[[ 1. 11.]\n",
      " [ 1. 25.]\n",
      " [ 1. 15.]\n",
      " ...\n",
      " [ 1. 23.]\n",
      " [ 1.  4.]\n",
      " [ 1. 19.]]\n",
      "[[5.]\n",
      " [5.]\n",
      " [5.]\n",
      " ...\n",
      " [6.]\n",
      " [6.]\n",
      " [6.]]\n"
     ]
    }
   ],
   "source": [
    "free_sd=A[:,6]\n",
    "x,y=getAb(free_sd,quality)\n",
    "print(x)\n",
    "print(y)"
   ]
  },
  {
   "cell_type": "code",
   "execution_count": 21,
   "id": "1ee74b65-13d2-43c1-be9a-08c6e7f4b7a6",
   "metadata": {},
   "outputs": [
    {
     "name": "stdout",
     "output_type": "stream",
     "text": [
      "[[ 5.75533073]\n",
      " [-0.00594449]]\n",
      "27.942875473161074\n"
     ]
    }
   ],
   "source": [
    "x_hat_freeSd = np.linalg.inv(np.matmul(np.transpose(x),x)) @ np.matmul(np.transpose(x),y)\n",
    "print(x_hat_freeSd)\n",
    "print(np.linalg.norm(x@x_hat_freeSd - y))"
   ]
  },
  {
   "cell_type": "code",
   "execution_count": 22,
   "id": "3af2c39e-d4f1-4d18-8ed1-5dc98160af65",
   "metadata": {},
   "outputs": [
    {
     "data": {
      "image/png": "[encoded data removed]",
      "text/plain": [
       "<Figure size 640x480 with 1 Axes>"
      ]
     },
     "metadata": {},
     "output_type": "display_data"
    }
   ],
   "source": [
    "import matplotlib.pyplot as plt\n",
    "import numpy as np\n",
    "plt.plot(free_sd, quality, \"o\")\n",
    "ts = np.linspace(min(free_sd), max(free_sd), 50)\n",
    "yts = [x_hat_freeSd[0] + x_hat_freeSd[1]*t for t in ts]\n",
    "plt.plot(ts, yts, color=\"red\")\n",
    "plt.show()"
   ]
  },
  {
   "cell_type": "markdown",
   "id": "a1754bca-e2e6-41d8-b9ec-64edf4a47f08",
   "metadata": {},
   "source": [
    "## Total sulfur dioxide"
   ]
  },
  {
   "cell_type": "code",
   "execution_count": 23,
   "id": "83fc138b-920a-44ce-9d9f-72c4a6bcb980",
   "metadata": {},
   "outputs": [
    {
     "name": "stdout",
     "output_type": "stream",
     "text": [
      "[[ 1. 34.]\n",
      " [ 1. 67.]\n",
      " [ 1. 54.]\n",
      " ...\n",
      " [ 1. 94.]\n",
      " [ 1.  9.]\n",
      " [ 1. 77.]]\n",
      "[[5.]\n",
      " [5.]\n",
      " [5.]\n",
      " ...\n",
      " [6.]\n",
      " [6.]\n",
      " [6.]]\n"
     ]
    }
   ],
   "source": [
    "total_sd=A[:,7]\n",
    "x,y=getAb(total_sd,quality)\n",
    "print(x)\n",
    "print(y)"
   ]
  },
  {
   "cell_type": "code",
   "execution_count": 24,
   "id": "658d9d6a-9275-4253-8370-bec0bf7821d9",
   "metadata": {},
   "outputs": [
    {
     "name": "stdout",
     "output_type": "stream",
     "text": [
      "[[ 5.91838860e+00]\n",
      " [-5.41053706e-03]]\n",
      "27.290982072665077\n"
     ]
    }
   ],
   "source": [
    "x_hat_totalSd = np.linalg.inv(np.matmul(np.transpose(x),x)) @ np.matmul(np.transpose(x),y)\n",
    "print(x_hat_totalSd)\n",
    "print(np.linalg.norm(x@x_hat_totalSd - y))"
   ]
  },
  {
   "cell_type": "code",
   "execution_count": 25,
   "id": "62a7ab15-e477-4e25-bcbf-00ed1dd65874",
   "metadata": {},
   "outputs": [
    {
     "data": {
      "image/png": "[encoded data removed]",
      "text/plain": [
       "<Figure size 640x480 with 1 Axes>"
      ]
     },
     "metadata": {},
     "output_type": "display_data"
    }
   ],
   "source": [
    "import matplotlib.pyplot as plt\n",
    "import numpy as np\n",
    "plt.plot(total_sd, quality, \"o\")\n",
    "ts = np.linspace(min(total_sd), max(total_sd), 50)\n",
    "yts = [x_hat_totalSd[0] + x_hat_totalSd[1]*t for t in ts]\n",
    "plt.plot(ts, yts, color=\"red\")\n",
    "plt.show()"
   ]
  },
  {
   "cell_type": "markdown",
   "id": "5049f419-1646-4da3-99ea-69bf22cf98b4",
   "metadata": {},
   "source": [
    "## Density"
   ]
  },
  {
   "cell_type": "code",
   "execution_count": 26,
   "id": "5a36c890-c924-4eb6-a75e-79bc364bfbb2",
   "metadata": {},
   "outputs": [
    {
     "name": "stdout",
     "output_type": "stream",
     "text": [
      "[[1.      0.9978 ]\n",
      " [1.      0.9968 ]\n",
      " [1.      0.997  ]\n",
      " ...\n",
      " [1.      0.99686]\n",
      " [1.      0.99458]\n",
      " [1.      0.9951 ]]\n",
      "[[5.]\n",
      " [5.]\n",
      " [5.]\n",
      " ...\n",
      " [6.]\n",
      " [6.]\n",
      " [6.]]\n"
     ]
    }
   ],
   "source": [
    "density=A[:,8]\n",
    "x,y=getAb(density,quality)\n",
    "print(x)\n",
    "print(y)"
   ]
  },
  {
   "cell_type": "code",
   "execution_count": 27,
   "id": "c43c62b3-0dc7-4893-8180-3ea15f0d9f79",
   "metadata": {},
   "outputs": [
    {
     "name": "stdout",
     "output_type": "stream",
     "text": [
      "[[ 88.38811964]\n",
      " [-82.96744026]]\n",
      "27.497840577708818\n"
     ]
    }
   ],
   "source": [
    "x_hat_density = np.linalg.inv(np.matmul(np.transpose(x),x)) @ np.matmul(np.transpose(x),y)\n",
    "print(x_hat_density)\n",
    "print(np.linalg.norm(x@x_hat_density - y))"
   ]
  },
  {
   "cell_type": "code",
   "execution_count": 28,
   "id": "2a37ca78-9bb8-4e67-b261-956099a8d8dd",
   "metadata": {},
   "outputs": [
    {
     "data": {
      "image/png": "[encoded data removed]",
      "text/plain": [
       "<Figure size 640x480 with 1 Axes>"
      ]
     },
     "metadata": {},
     "output_type": "display_data"
    }
   ],
   "source": [
    "import matplotlib.pyplot as plt\n",
    "import numpy as np\n",
    "plt.plot(density, quality, \"o\")\n",
    "ts = np.linspace(min(density), max(density), 50)\n",
    "yts = [x_hat_density[0] + x_hat_density[1]*t for t in ts]\n",
    "plt.plot(ts, yts, color=\"red\")\n",
    "plt.show()"
   ]
  },
  {
   "cell_type": "markdown",
   "id": "a87efc99-0aa7-4ddb-8f49-cde8b9befb3f",
   "metadata": {},
   "source": [
    "## pH"
   ]
  },
  {
   "cell_type": "code",
   "execution_count": 29,
   "id": "29943022-0a62-4488-b7d4-52dd18511055",
   "metadata": {},
   "outputs": [
    {
     "name": "stdout",
     "output_type": "stream",
     "text": [
      "[[1.   3.51]\n",
      " [1.   3.2 ]\n",
      " [1.   3.26]\n",
      " ...\n",
      " [1.   3.21]\n",
      " [1.   3.16]\n",
      " [1.   3.15]]\n",
      "[[5.]\n",
      " [5.]\n",
      " [5.]\n",
      " ...\n",
      " [6.]\n",
      " [6.]\n",
      " [6.]]\n"
     ]
    }
   ],
   "source": [
    "pH=A[:,9]\n",
    "x,y=getAb(pH,quality)\n",
    "print(x)\n",
    "print(y)"
   ]
  },
  {
   "cell_type": "code",
   "execution_count": 30,
   "id": "61ff4a7b-5707-4dc9-9194-cb5ed0433664",
   "metadata": {},
   "outputs": [
    {
     "name": "stdout",
     "output_type": "stream",
     "text": [
      "[[ 6.9586518]\n",
      " [-0.3922689]]\n",
      "27.941408153675564\n"
     ]
    }
   ],
   "source": [
    "x_hat_pH = np.linalg.inv(np.matmul(np.transpose(x),x)) @ np.matmul(np.transpose(x),y)\n",
    "print(x_hat_pH)\n",
    "print(np.linalg.norm(x@x_hat_pH - y))"
   ]
  },
  {
   "cell_type": "code",
   "execution_count": 31,
   "id": "3d0f08bd-a4b1-42ba-adfb-48b31db30b85",
   "metadata": {},
   "outputs": [
    {
     "data": {
      "image/png": "[encoded data removed]",
      "text/plain": [
       "<Figure size 640x480 with 1 Axes>"
      ]
     },
     "metadata": {},
     "output_type": "display_data"
    }
   ],
   "source": [
    "import matplotlib.pyplot as plt\n",
    "import numpy as np\n",
    "plt.plot(pH, quality, \"o\")\n",
    "ts = np.linspace(min(pH), max(pH), 50)\n",
    "yts = [x_hat_pH[0] + x_hat_pH[1]*t for t in ts]\n",
    "plt.plot(ts, yts, color=\"red\")\n",
    "plt.show()"
   ]
  },
  {
   "cell_type": "markdown",
   "id": "91f1e149-f3f4-4e60-b1d1-3bf4e6df2338",
   "metadata": {},
   "source": [
    "## Sulphate"
   ]
  },
  {
   "cell_type": "code",
   "execution_count": 32,
   "id": "9a967af1-bc14-42d0-b2ba-270a017d8414",
   "metadata": {},
   "outputs": [
    {
     "name": "stdout",
     "output_type": "stream",
     "text": [
      "[[1.   0.56]\n",
      " [1.   0.68]\n",
      " [1.   0.65]\n",
      " ...\n",
      " [1.   0.58]\n",
      " [1.   0.54]\n",
      " [1.   0.79]]\n",
      "[[5.]\n",
      " [5.]\n",
      " [5.]\n",
      " ...\n",
      " [6.]\n",
      " [6.]\n",
      " [6.]]\n"
     ]
    }
   ],
   "source": [
    "sulphate=A[:,10]\n",
    "x,y=getAb(sulphate,quality)\n",
    "print(x)\n",
    "print(y)"
   ]
  },
  {
   "cell_type": "code",
   "execution_count": 33,
   "id": "2c30bb5d-fc52-4605-bfd2-fc7a53fe5f6e",
   "metadata": {},
   "outputs": [
    {
     "name": "stdout",
     "output_type": "stream",
     "text": [
      "[[5.01710375]\n",
      " [0.97278019]]\n",
      "27.388550316050484\n"
     ]
    }
   ],
   "source": [
    "x_hat_sulphate = np.linalg.inv(np.matmul(np.transpose(x),x)) @ np.matmul(np.transpose(x),y)\n",
    "print(x_hat_sulphate)\n",
    "print(np.linalg.norm(x@x_hat_sulphate - y))"
   ]
  },
  {
   "cell_type": "code",
   "execution_count": 34,
   "id": "181c9172-2a12-439f-a780-429c6428591a",
   "metadata": {},
   "outputs": [
    {
     "data": {
      "image/png": "[encoded data removed]",
      "text/plain": [
       "<Figure size 640x480 with 1 Axes>"
      ]
     },
     "metadata": {},
     "output_type": "display_data"
    }
   ],
   "source": [
    "import matplotlib.pyplot as plt\n",
    "import numpy as np\n",
    "plt.plot(sulphate, quality, \"o\")\n",
    "ts = np.linspace(min(sulphate), max(sulphate), 50)\n",
    "yts = [x_hat_sulphate[0] + x_hat_sulphate[1]*t for t in ts]\n",
    "plt.plot(ts, yts, color=\"red\")\n",
    "plt.show()"
   ]
  },
  {
   "cell_type": "markdown",
   "id": "81c16585-78ee-4340-8f58-b7d95a4312dd",
   "metadata": {},
   "source": [
    "## Alcohol"
   ]
  },
  {
   "cell_type": "code",
   "execution_count": 35,
   "id": "83048a9f-f013-4db5-8bb2-2a29a4e162ac",
   "metadata": {},
   "outputs": [
    {
     "name": "stdout",
     "output_type": "stream",
     "text": [
      "[[ 1.   9.4]\n",
      " [ 1.   9.8]\n",
      " [ 1.   9.8]\n",
      " ...\n",
      " [ 1.   9.5]\n",
      " [ 1.   9.8]\n",
      " [ 1.  10.9]]\n",
      "[[5.]\n",
      " [5.]\n",
      " [5.]\n",
      " ...\n",
      " [6.]\n",
      " [6.]\n",
      " [6.]]\n"
     ]
    }
   ],
   "source": [
    "alcohol=A[:,11]\n",
    "x,y=getAb(alcohol,quality)\n",
    "print(x)\n",
    "print(y)"
   ]
  },
  {
   "cell_type": "code",
   "execution_count": 36,
   "id": "fd35d643-8842-48ad-ba90-08af9e40aada",
   "metadata": {},
   "outputs": [
    {
     "name": "stdout",
     "output_type": "stream",
     "text": [
      "[[1.77407588]\n",
      " [0.37471047]]\n",
      "24.18005277501417\n"
     ]
    }
   ],
   "source": [
    "x_hat_alcohol = np.linalg.inv(np.matmul(np.transpose(x),x)) @ np.matmul(np.transpose(x),y)\n",
    "print(x_hat_alcohol)\n",
    "print(np.linalg.norm(x@x_hat_alcohol - y))"
   ]
  },
  {
   "cell_type": "code",
   "execution_count": 37,
   "id": "d2cdd0f8-7534-462c-8068-3289de0acb44",
   "metadata": {},
   "outputs": [
    {
     "data": {
      "image/png": "[encoded data removed]",
      "text/plain": [
       "<Figure size 640x480 with 1 Axes>"
      ]
     },
     "metadata": {},
     "output_type": "display_data"
    }
   ],
   "source": [
    "import matplotlib.pyplot as plt\n",
    "import numpy as np\n",
    "plt.plot(alcohol, quality, \"o\")\n",
    "ts = np.linspace(min(alcohol), max(alcohol), 50)\n",
    "yts = [x_hat_alcohol[0] + x_hat_alcohol[1]*t for t in ts]\n",
    "plt.plot(ts, yts, color=\"red\")\n",
    "plt.show()"
   ]
  },
  {
   "cell_type": "raw",
   "id": "f139b1c4-adce-4fd0-913b-0c6caebf8f96",
   "metadata": {
    "jp-MarkdownHeadingCollapsed": true,
    "tags": []
   },
   "source": [
    "Từ giá trị x_hat và hình vẽ của 11 đặc trưng, có thể thấy đặc trưng Alcohol cho kết quả tốt nhất."
   ]
  },
  {
   "cell_type": "markdown",
   "id": "62e3cf2f-50dd-4615-9d0f-6ed542b11f77",
   "metadata": {},
   "source": [
    "## Câu 3"
   ]
  },
  {
   "cell_type": "code",
   "execution_count": 40,
   "id": "239e8a11-4fa8-41f2-af54-6dbab9fb849a",
   "metadata": {},
   "outputs": [
    {
     "name": "stdout",
     "output_type": "stream",
     "text": [
      "[[ 1.    0.7   9.4 ]\n",
      " [ 1.    0.88  9.8 ]\n",
      " [ 1.    0.76  9.8 ]\n",
      " ...\n",
      " [ 1.    0.58  9.5 ]\n",
      " [ 1.    0.57  9.8 ]\n",
      " [ 1.    0.26 10.9 ]]\n",
      "[[5.]\n",
      " [5.]\n",
      " [5.]\n",
      " ...\n",
      " [6.]\n",
      " [6.]\n",
      " [6.]]\n"
     ]
    }
   ],
   "source": [
    "x=np.array([col1,np.array(volatile_acidity),np.array(alcohol)]).T\n",
    "y=np.array(A[:,0]).reshape(len(A[:,0]),1)\n",
    "print(x)\n",
    "print(y)"
   ]
  },
  {
   "cell_type": "code",
   "execution_count": 41,
   "id": "46e78416-eb03-49e1-8dc2-6db0c6e75a51",
   "metadata": {},
   "outputs": [
    {
     "name": "stdout",
     "output_type": "stream",
     "text": [
      "[[ 2.90831877]\n",
      " [-1.29502104]\n",
      " [ 0.33021926]]\n",
      "22.86870843057683\n"
     ]
    }
   ],
   "source": [
    "x_hat_best = np.linalg.inv(np.matmul(np.transpose(x),x)) @ np.matmul(np.transpose(x),y)\n",
    "print(x_hat_best)\n",
    "print(np.linalg.norm(x@x_hat_best - y))"
   ]
  },
  {
   "cell_type": "raw",
   "id": "9cf206c5-da78-4ea8-946c-dee2749c4140",
   "metadata": {},
   "source": [
    "Trong 11 thuộc tính, em thấy có 2 thuộc tính cho giá trị x_hat nhỏ nhất, khác biệt hẳn \n",
    "so với 9 thuộc tính còn lại (đều dao động giá trị 27) là volatile acidity và alcohol\n",
    "(25.92 và 24.18). Vậy nên theo em, mô hình tốt nhất là mô hình chỉ sử dụng hai thuộc\n",
    "tính này. Và theo như tính toán ở trên thì giá trị x_hat của mô hình này là tốt nhất (~22,86). "
   ]
  },
  {
   "cell_type": "code",
   "execution_count": null,
   "id": "2e18d049-5c96-4525-9e88-3bbd07e2ac18",
   "metadata": {},
   "outputs": [],
   "source": []
  }
 ],
 "metadata": {
  "kernelspec": {
   "display_name": "Python 3 (ipykernel)",
   "language": "python",
   "name": "python3"
  },
  "language_info": {
   "codemirror_mode": {
    "name": "ipython",
    "version": 3
   },
   "file_extension": ".py",
   "mimetype": "text/x-python",
   "name": "python",
   "nbconvert_exporter": "python",
   "pygments_lexer": "ipython3",
   "version": "3.10.9"
  }
 },
 "nbformat": 4,
 "nbformat_minor": 5
}
